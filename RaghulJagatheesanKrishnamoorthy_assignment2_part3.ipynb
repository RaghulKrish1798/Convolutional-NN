{
 "cells": [
  {
   "attachments": {},
   "cell_type": "markdown",
   "metadata": {},
   "source": [
    "## Part 3 Implementing & Improving AlexNet"
   ]
  },
  {
   "attachments": {},
   "cell_type": "markdown",
   "metadata": {},
   "source": [
    "Importing Required Libraries"
   ]
  },
  {
   "cell_type": "code",
   "execution_count": 1,
   "metadata": {},
   "outputs": [],
   "source": [
    "import numpy as np\n",
    "import pandas as pd\n",
    "import pickle\n",
    "\n",
    "from sklearn.model_selection import train_test_split\n",
    "from sklearn.preprocessing import StandardScaler\n",
    "\n",
    "import torchvision\n",
    "from torchvision.io import read_image\n",
    "from torchvision import transforms\n",
    "from torch.utils.data import Dataset\n",
    "\n",
    "import torch\n",
    "from torch import nn\n",
    "import torch.optim as optim\n",
    "\n",
    "import matplotlib.pyplot as plt"
   ]
  },
  {
   "attachments": {},
   "cell_type": "markdown",
   "metadata": {},
   "source": [
    "Step 1:\n",
    "\n",
    "Loading the Data"
   ]
  },
  {
   "cell_type": "code",
   "execution_count": 5,
   "metadata": {},
   "outputs": [],
   "source": [
    "dataset = []\n",
    "for i in range(1, 10001):\n",
    "    img = torchvision.io.read_image(f'C:/Users/RaghulKrish/Desktop/UB/Spring 23/ML/Assignment/A_2/cnn_dataset/dogs/{i}.jpg')\n",
    "    dataset.append(img)\n",
    "for i in range(1, 10001):\n",
    "    img = torchvision.io.read_image(f'C:/Users/RaghulKrish/Desktop/UB/Spring 23/ML/Assignment/A_2/cnn_dataset/food/{i}.jpg')\n",
    "    dataset.append(img)\n",
    "for i in range(1, 10001):\n",
    "    img = torchvision.io.read_image(f'C:/Users/RaghulKrish/Desktop/UB/Spring 23/ML/Assignment/A_2/cnn_dataset/vehicles/{i}.jpg')\n",
    "    dataset.append(img)"
   ]
  },
  {
   "cell_type": "code",
   "execution_count": 6,
   "metadata": {},
   "outputs": [],
   "source": [
    "labels = []\n",
    "for i in range(1, 10001):\n",
    "    labels.append(0)\n",
    "for i in range(1, 10001):\n",
    "    labels.append(1)\n",
    "for i in range(1, 10001):\n",
    "    labels.append(2)"
   ]
  },
  {
   "cell_type": "code",
   "execution_count": 17,
   "metadata": {},
   "outputs": [
    {
     "name": "stdout",
     "output_type": "stream",
     "text": [
      "30000\n"
     ]
    }
   ],
   "source": [
    "data_path = \"C:/Users/RaghulKrish/Desktop/UB/Spring 23/ML/Assignment/A_2/cnn_dataset/\"\n",
    "TRANSFORM_IMG = transforms.Compose([\n",
    "    transforms.Resize(224),\n",
    "    transforms.CenterCrop(224),\n",
    "    transforms.ToTensor(),\n",
    "    transforms.Normalize(mean=[0.485, 0.456, 0.406],\n",
    "                         std=[0.229, 0.224, 0.225] )\n",
    "    ])\n",
    "\n",
    "data = torchvision.datasets.ImageFolder(root = data_path, transform = TRANSFORM_IMG)"
   ]
  },
  {
   "attachments": {},
   "cell_type": "markdown",
   "metadata": {},
   "source": [
    "Step 2"
   ]
  },
  {
   "cell_type": "code",
   "execution_count": null,
   "metadata": {},
   "outputs": [],
   "source": [
    "# Alex Net\n",
    "class AlexNet(nn.Module):\n",
    "    def __init__(self, no_of_class = 3):\n",
    "        super(AlexNet, self).__init__()\n",
    "        "
   ]
  }
 ],
 "metadata": {
  "kernelspec": {
   "display_name": "Python 3",
   "language": "python",
   "name": "python3"
  },
  "language_info": {
   "codemirror_mode": {
    "name": "ipython",
    "version": 3
   },
   "file_extension": ".py",
   "mimetype": "text/x-python",
   "name": "python",
   "nbconvert_exporter": "python",
   "pygments_lexer": "ipython3",
   "version": "3.10.6"
  },
  "orig_nbformat": 4
 },
 "nbformat": 4,
 "nbformat_minor": 2
}
