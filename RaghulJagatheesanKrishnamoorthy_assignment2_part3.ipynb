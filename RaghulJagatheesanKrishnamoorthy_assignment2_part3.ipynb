{
 "cells": [
  {
   "attachments": {},
   "cell_type": "markdown",
   "metadata": {},
   "source": [
    "## Part 3 Implementing & Improving AlexNet"
   ]
  },
  {
   "attachments": {},
   "cell_type": "markdown",
   "metadata": {},
   "source": [
    "Importing Required Libraries"
   ]
  },
  {
   "cell_type": "code",
   "execution_count": 17,
   "metadata": {},
   "outputs": [],
   "source": [
    "import numpy as np\n",
    "import pandas as pd\n",
    "import pickle\n",
    "\n",
    "from sklearn.model_selection import train_test_split\n",
    "from sklearn.preprocessing import StandardScaler\n",
    "\n",
    "import torchvision\n",
    "from torchvision.io import read_image\n",
    "from torchvision import transforms\n",
    "from torch.utils.data import Dataset\n",
    "\n",
    "import torch\n",
    "from torch import nn\n",
    "import torch.optim as optim\n",
    "from torch.utils.data import DataLoader\n",
    "\n",
    "import matplotlib.pyplot as plt"
   ]
  },
  {
   "cell_type": "code",
   "execution_count": 21,
   "metadata": {},
   "outputs": [
    {
     "name": "stdout",
     "output_type": "stream",
     "text": [
      "True\n"
     ]
    },
    {
     "data": {
      "text/plain": [
       "device(type='cuda')"
      ]
     },
     "execution_count": 21,
     "metadata": {},
     "output_type": "execute_result"
    }
   ],
   "source": [
    "print(torch.cuda.is_available())\n",
    "device = torch.device('cuda')\n",
    "device"
   ]
  },
  {
   "attachments": {},
   "cell_type": "markdown",
   "metadata": {},
   "source": [
    "Step 1:\n",
    "\n",
    "Loading the Data"
   ]
  },
  {
   "cell_type": "code",
   "execution_count": 5,
   "metadata": {},
   "outputs": [],
   "source": [
    "dataset = []\n",
    "for i in range(1, 10001):\n",
    "    img = torchvision.io.read_image(f'C:/Users/RaghulKrish/Desktop/UB/Spring 23/ML/Assignment/A_2/cnn_dataset/dogs/{i}.jpg')\n",
    "    dataset.append(img)\n",
    "for i in range(1, 10001):\n",
    "    img = torchvision.io.read_image(f'C:/Users/RaghulKrish/Desktop/UB/Spring 23/ML/Assignment/A_2/cnn_dataset/food/{i}.jpg')\n",
    "    dataset.append(img)\n",
    "for i in range(1, 10001):\n",
    "    img = torchvision.io.read_image(f'C:/Users/RaghulKrish/Desktop/UB/Spring 23/ML/Assignment/A_2/cnn_dataset/vehicles/{i}.jpg')\n",
    "    dataset.append(img)"
   ]
  },
  {
   "cell_type": "code",
   "execution_count": 6,
   "metadata": {},
   "outputs": [],
   "source": [
    "labels = []\n",
    "for i in range(1, 10001):\n",
    "    labels.append(0)\n",
    "for i in range(1, 10001):\n",
    "    labels.append(1)\n",
    "for i in range(1, 10001):\n",
    "    labels.append(2)"
   ]
  },
  {
   "cell_type": "code",
   "execution_count": 18,
   "metadata": {},
   "outputs": [],
   "source": [
    "data_path = \"C:/Users/RaghulKrish/Desktop/UB/Spring 23/ML/Assignment/A_2/cnn_dataset/\"\n",
    "TRANSFORM_IMG = transforms.Compose([\n",
    "    transforms.Resize(224),\n",
    "    transforms.CenterCrop(224),\n",
    "    transforms.ToTensor(),\n",
    "    transforms.Normalize(mean=[0.485, 0.456, 0.406],\n",
    "                         std=[0.229, 0.224, 0.225] )\n",
    "    ])\n",
    "\n",
    "data = torchvision.datasets.ImageFolder(root = data_path, transform = TRANSFORM_IMG)"
   ]
  },
  {
   "cell_type": "code",
   "execution_count": 20,
   "metadata": {},
   "outputs": [
    {
     "name": "stdout",
     "output_type": "stream",
     "text": [
      "(tensor([[[ 2.1462,  2.1462,  2.1633,  ...,  2.2147,  2.2147,  2.2147],\n",
      "         [ 2.1462,  2.1462,  2.1633,  ...,  2.2147,  2.2147,  2.2147],\n",
      "         [ 2.1633,  2.1633,  2.1804,  ...,  2.2147,  2.2147,  2.2147],\n",
      "         ...,\n",
      "         [-0.1143, -0.1143, -0.1314,  ...,  0.0912,  0.0741,  0.0741],\n",
      "         [-0.0972, -0.0972, -0.1143,  ...,  0.0741,  0.0569,  0.0569],\n",
      "         [-0.0972, -0.0972, -0.1143,  ...,  0.0741,  0.0569,  0.0569]],\n",
      "\n",
      "        [[ 2.4111,  2.4111,  2.4111,  ...,  2.3936,  2.3936,  2.3936],\n",
      "         [ 2.4111,  2.4111,  2.4111,  ...,  2.3936,  2.3936,  2.3936],\n",
      "         [ 2.3936,  2.3936,  2.3936,  ...,  2.3936,  2.3936,  2.3936],\n",
      "         ...,\n",
      "         [-1.5980, -1.5980, -1.6331,  ..., -1.8606, -1.8782, -1.8782],\n",
      "         [-1.5805, -1.5805, -1.6155,  ..., -1.8782, -1.8957, -1.8957],\n",
      "         [-1.5805, -1.5805, -1.6155,  ..., -1.8782, -1.8957, -1.8957]],\n",
      "\n",
      "        [[ 2.5006,  2.5006,  2.5006,  ...,  2.6051,  2.6051,  2.6051],\n",
      "         [ 2.5006,  2.5006,  2.5006,  ...,  2.6051,  2.6051,  2.6051],\n",
      "         [ 2.4831,  2.4831,  2.5006,  ...,  2.6051,  2.6051,  2.6051],\n",
      "         ...,\n",
      "         [-1.2641, -1.2641, -1.2990,  ..., -1.2467, -1.2641, -1.2641],\n",
      "         [-1.2641, -1.2641, -1.2990,  ..., -1.2641, -1.2816, -1.2816],\n",
      "         [-1.2641, -1.2641, -1.2990,  ..., -1.2641, -1.2816, -1.2816]]]), 0)\n"
     ]
    },
    {
     "name": "stderr",
     "output_type": "stream",
     "text": [
      "C:\\Users\\RaghulKrish\\AppData\\Local\\Temp\\ipykernel_6016\\4191424641.py:1: UserWarning: To copy construct from a tensor, it is recommended to use sourceTensor.clone().detach() or sourceTensor.clone().detach().requires_grad_(True), rather than torch.tensor(sourceTensor).\n",
      "  img = torch.tensor(data[0][0])\n"
     ]
    }
   ],
   "source": [
    "img = torch.tensor(data[0][0])\n",
    "data = data.to(device)"
   ]
  },
  {
   "attachments": {},
   "cell_type": "markdown",
   "metadata": {},
   "source": [
    "Step 2"
   ]
  },
  {
   "cell_type": "code",
   "execution_count": 5,
   "metadata": {},
   "outputs": [],
   "source": [
    "# Alex Net\n",
    "class AlexNet(nn.Module):\n",
    "    def __init__(self, no_of_class = 3):\n",
    "        super(AlexNet, self).__init__()\n",
    "        self.layer1 = nn.Sequential(\n",
    "            nn.Conv2d(3, 96, kernel_size = 11, stride = 4, padding = 0),\n",
    "            nn.BatchNorm2d(96),\n",
    "            nn.ReLU(),\n",
    "            nn.MaxPool2d(kernel_size = 3, stride = 2))\n",
    "        self.layer2 = nn.Sequential(\n",
    "            nn.Conv2d(96, 256, kernel_size = 5, stride = 1, padding = 2),\n",
    "            nn.BatchNorm2d(256),\n",
    "            nn.ReLU(),\n",
    "            nn.MaxPool2d(kernel_size = 3, stride = 2))\n",
    "        self.layer3 = nn.Sequential(\n",
    "            nn.Conv2d(256, 384, kernel_size = 3, stride = 1, padding = 1),\n",
    "            nn.BatchNorm2d(384),\n",
    "            nn.ReLU())\n",
    "        self.layer4 = nn.Sequential(\n",
    "            nn.Conv2d(384, 384, kernel_size = 3, stride = 1, padding = 1),\n",
    "            nn.BatchNorm2d(384),\n",
    "            nn.ReLU())\n",
    "        self.layer5 = nn.Sequential(\n",
    "            nn.Conv2d(384, 256, kernel_size = 3, stride = 1, padding = 1),\n",
    "            nn.BatchNorm2d(256),\n",
    "            nn.ReLU(),\n",
    "            nn.MaxPool2d(kernel_size = 3, stride = 2))\n",
    "        self.fc1 = nn.Sequential(\n",
    "            nn.Dropout(0.5),\n",
    "            nn.Linear(9216, 4096),\n",
    "            nn.ReLU())\n",
    "        self.fc2 = nn.Sequential(\n",
    "            nn.Dropout(0.5),\n",
    "            nn.Linear(4096, 4096),\n",
    "            nn.ReLU())\n",
    "        self.fc3 = nn.Sequential(\n",
    "            nn.Linear(4096, no_of_class))\n",
    "    \n",
    "    def forward(self, x):\n",
    "        x = self.layer1(x)\n",
    "        x = self.layer2(x)\n",
    "        x = self.layer3(x)\n",
    "        x = self.layer4(x)\n",
    "        x = self.layer5(x)\n",
    "        x = torch.flatten(x, 1)\n",
    "        x = self.fc1(x)\n",
    "        x = self.fc2(x)\n",
    "        x = self.fc3(x)\n",
    "        return x"
   ]
  }
 ],
 "metadata": {
  "kernelspec": {
   "display_name": "Python 3",
   "language": "python",
   "name": "python3"
  },
  "language_info": {
   "codemirror_mode": {
    "name": "ipython",
    "version": 3
   },
   "file_extension": ".py",
   "mimetype": "text/x-python",
   "name": "python",
   "nbconvert_exporter": "python",
   "pygments_lexer": "ipython3",
   "version": "3.10.6"
  },
  "orig_nbformat": 4
 },
 "nbformat": 4,
 "nbformat_minor": 2
}
